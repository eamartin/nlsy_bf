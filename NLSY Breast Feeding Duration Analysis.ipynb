{
 "metadata": {
  "name": "",
  "signature": "sha256:01756133afa1d8facc2ebf809e9915a1025e4405234626b183f634b5f2bc1523"
 },
 "nbformat": 3,
 "nbformat_minor": 0,
 "worksheets": [
  {
   "cells": [
    {
     "cell_type": "code",
     "collapsed": false,
     "input": [
      "from matplotlib import pyplot as plt\n",
      "import numpy as np\n",
      "import pandas as pd\n",
      "from statsmodels.distributions.empirical_distribution import ECDF\n",
      "import lifelines as ll\n",
      "from lifelines.statistics import logrank_test, multivariate_logrank_test\n",
      "%matplotlib inline  "
     ],
     "language": "python",
     "metadata": {},
     "outputs": []
    },
    {
     "cell_type": "heading",
     "level": 2,
     "metadata": {},
     "source": [
      "Load the data and split into train/test sets"
     ]
    },
    {
     "cell_type": "code",
     "collapsed": false,
     "input": [
      "# load in the raw data\n",
      "data = pd.read_csv('data/raw.csv', sep=' ', \n",
      "                   names=[\n",
      "                       'duration', \n",
      "                       'done_feeding', \n",
      "                       'race', \n",
      "                       'poverty', \n",
      "                       'smoking', \n",
      "                       'alcohol', \n",
      "                       'age', \n",
      "                       'year', \n",
      "                       'education', \n",
      "                       'prenatal_care'], \n",
      "                   skipinitialspace=True)\n",
      "\n",
      "# cast boolean fields to bools\n",
      "for col in ['done_feeding', 'poverty', 'smoking', 'alcohol', 'prenatal_care']:\n",
      "    data[col] = data[col].astype(bool)\n",
      "    \n",
      "for col in ['age', 'year', 'education']:\n",
      "    data[col] -= data[col].min()\n",
      "    \n",
      "# convert categorical data into appropriate data for regression\n",
      "data['white'] = data['race'] == 1\n",
      "data['black'] = data['race'] == 2\n",
      "\n",
      "# reorder columns (to put race back to front) and clean up no longer need variables\n",
      "del data['race']\n",
      "cols = data.columns.tolist()\n",
      "cols = cols[:2] + cols[-2:] + cols[2:-2]\n",
      "data = data[cols]\n",
      "del cols\n",
      "\n",
      "# save a copy of this data\n",
      "data.to_csv('data/processed.csv')"
     ],
     "language": "python",
     "metadata": {},
     "outputs": []
    },
    {
     "cell_type": "code",
     "collapsed": false,
     "input": [
      "# build a train and test set\n",
      "\n",
      "# set the seed so code can be repeated\n",
      "np.random.seed(2014)\n",
      "\n",
      "# create a test set of 100 mothers (all of which are uncensored)\n",
      "test_idxs = np.sort(np.random.choice(data['done_feeding'].nonzero()[0], size=100, replace=False))\n",
      "\n",
      "# partition data into test and train\n",
      "test_set = data.iloc[test_idxs]\n",
      "train_set = data.iloc[~data.index.isin(test_idxs)]\n",
      "\n",
      "del test_idxs\n",
      "\n",
      "# save to file\n",
      "test_set.to_csv('data/test.csv')\n",
      "train_set.to_csv('data/train.csv')"
     ],
     "language": "python",
     "metadata": {},
     "outputs": []
    },
    {
     "cell_type": "heading",
     "level": 2,
     "metadata": {},
     "source": [
      "Basic exploratory analysis of dataset"
     ]
    },
    {
     "cell_type": "code",
     "collapsed": false,
     "input": [
      "data"
     ],
     "language": "python",
     "metadata": {},
     "outputs": []
    },
    {
     "cell_type": "code",
     "collapsed": false,
     "input": [
      "data.describe()"
     ],
     "language": "python",
     "metadata": {},
     "outputs": []
    },
    {
     "cell_type": "code",
     "collapsed": false,
     "input": [
      "# compare the CDFs\n",
      "\n",
      "ix = data.done_feeding\n",
      "censored = data[~ix]\n",
      "uncensored = data[ix]\n",
      "\n",
      "uncensored.duration.hist(bins=30)\n",
      "\n",
      "del censored, uncensored, ix"
     ],
     "language": "python",
     "metadata": {},
     "outputs": []
    },
    {
     "cell_type": "code",
     "collapsed": false,
     "input": [
      "kmf = ll.KaplanMeierFitter()\n",
      "kmf.fit(train_set.duration, event_observed=train_set.done_feeding)\n",
      "kmf.plot()\n",
      "\n",
      "del kmf"
     ],
     "language": "python",
     "metadata": {},
     "outputs": []
    },
    {
     "cell_type": "heading",
     "level": 2,
     "metadata": {},
     "source": [
      "Train Aalen additive model on train and evaluate it on test"
     ]
    },
    {
     "cell_type": "code",
     "collapsed": false,
     "input": [
      "aaf = ll.AalenAdditiveFitter(penalizer=10)\n",
      "aaf.fit(train_set, duration_col='duration', event_col='done_feeding')"
     ],
     "language": "python",
     "metadata": {},
     "outputs": []
    },
    {
     "cell_type": "code",
     "collapsed": false,
     "input": [
      "# predict cumulative hazard functions for all points in test set\n",
      "test_factors = test_set[test_set.columns[2:]].astype(int).as_matrix();\n",
      "median_guesses = aaf.predict_median(test_factors).values\n",
      "mean_guesses = aaf.predict_expectation(test_factors)\n",
      "actual = test_set.duration.values\n",
      "median_errors = median_guesses - actual\n",
      "mean_errors = mean_guesses - actual\n",
      "print 'RMSE: %f' % np.sqrt((median_errors ** 2).sum() / median_errors.size)\n",
      "\n",
      "del actual, mean_guesses, median_guesses"
     ],
     "language": "python",
     "metadata": {},
     "outputs": []
    },
    {
     "cell_type": "code",
     "collapsed": false,
     "input": [
      "aaf.cumulative_hazards_.plot()"
     ],
     "language": "python",
     "metadata": {},
     "outputs": []
    },
    {
     "cell_type": "code",
     "collapsed": false,
     "input": [
      "aaf.predict_survival_function(test_factors).plot(legend=False)"
     ],
     "language": "python",
     "metadata": {},
     "outputs": []
    },
    {
     "cell_type": "code",
     "collapsed": false,
     "input": [
      "# error analysis\n",
      "plt.hist(mean_errors, bins=15)\n",
      "\n",
      "plt.figure()\n",
      "plt.hist(median_errors, bins=15)"
     ],
     "language": "python",
     "metadata": {},
     "outputs": []
    },
    {
     "cell_type": "code",
     "collapsed": false,
     "input": [
      "# cleanup\n",
      "del aaf, test_factors, mean_errors, median_errors"
     ],
     "language": "python",
     "metadata": {},
     "outputs": []
    },
    {
     "cell_type": "heading",
     "level": 2,
     "metadata": {},
     "source": [
      "Eric's factor analysis"
     ]
    },
    {
     "cell_type": "code",
     "collapsed": false,
     "input": [
      "kmf = ll.KaplanMeierFitter()\n",
      "\n",
      "# binary variables\n",
      "T = data.duration\n",
      "C = data.done_feeding\n",
      "for s in ['poverty', 'smoking', 'alcohol', 'prenatal_care']:\n",
      "    ix = data[s]\n",
      "    p = logrank_test(data.duration[ix], data.duration[~ix], data.done_feeding[ix], data.done_feeding[~ix])[1]\n",
      "    kmf.fit(T[ix], C[ix], label=s)\n",
      "    ax = kmf.plot()\n",
      "    kmf.fit(T[~ix], C[~ix], label='not %s' % s)\n",
      "    kmf.plot(ax=ax)\n",
      "    plt.title('p-value %f' % p)\n",
      "\n",
      "# categorical test\n",
      "race = 2 * data.white.values + data.black.values\n",
      "p = multivariate_logrank_test(data.duration.values, race, data.done_feeding.values)[1]\n",
      "kmf.fit(T[data.white], C[data.white], label='white')\n",
      "ax = kmf.plot()\n",
      "kmf.fit(T[data.black], C[data.black], label='black')\n",
      "ax = kmf.plot(ax=ax)\n",
      "kmf.fit(T[~data.white & ~data.black], C[~data.white & ~data.black], label='other')\n",
      "kmf.plot(ax=ax)\n",
      "plt.title('p-value %f' % p)\n",
      "\n",
      "# continuous tests\n",
      "for s in ['age', 'year', 'education']:\n",
      "    ix = data[s] < data[s].median()\n",
      "    p = logrank_test(data.duration[ix], data.duration[~ix], data.done_feeding[ix], data.done_feeding[~ix])[1]\n",
      "    kmf.fit(T[ix], C[ix], label='lesser %s' % s)\n",
      "    ax = kmf.plot()\n",
      "    kmf.fit(T[~ix], C[~ix], label='greater %s' % s)\n",
      "    kmf.plot(ax=ax)\n",
      "    plt.title('p-value %f' % p)\n",
      "    \n",
      "del T, C, kmf, p"
     ],
     "language": "python",
     "metadata": {},
     "outputs": []
    },
    {
     "cell_type": "markdown",
     "metadata": {},
     "source": [
      "So smoking is the greatest factor... Let's adjust for that now."
     ]
    },
    {
     "cell_type": "code",
     "collapsed": false,
     "input": [
      "aaf = ll.AalenAdditiveFitter(penalizer=10)\n",
      "aaf.fit(data[['duration', 'done_feeding', 'smoking']], duration_col='duration', event_col='done_feeding')"
     ],
     "language": "python",
     "metadata": {},
     "outputs": []
    },
    {
     "cell_type": "code",
     "collapsed": false,
     "input": [
      "kmf = ll.KaplanMeierFitter()\n",
      "\n",
      "covariates = data['smoking'].values\n",
      "smoking_factor = aaf.predict_median(np.array([[0], [1]]))\n",
      "# advantage of not smoking over smoking\n",
      "smoking_factor = smoking_factor[0] - smoking_factor[1]\n",
      "\n",
      "# binary variables\n",
      "T = data.duration + smoking_factor * data.smoking\n",
      "C = data.done_feeding\n",
      "for s in ['poverty', 'alcohol', 'prenatal_care']:\n",
      "    ix = data[s]\n",
      "    p = logrank_test(T[ix], T[~ix], C[ix], C[~ix])[1]\n",
      "    kmf.fit(T[ix], C[ix], label=s)\n",
      "    ax = kmf.plot()\n",
      "    kmf.fit(T[~ix], C[~ix], label='not %s' % s)\n",
      "    kmf.plot(ax=ax)\n",
      "    plt.title('p-value %f' % p)\n",
      "\n",
      "# categorical test\n",
      "race = 2 * data.white.values + data.black.values\n",
      "p = multivariate_logrank_test(T.values, race, C.values)[1]\n",
      "kmf.fit(T[data.white], C[data.white], label='white')\n",
      "ax = kmf.plot()\n",
      "kmf.fit(T[data.black], C[data.black], label='black')\n",
      "ax = kmf.plot(ax=ax)\n",
      "kmf.fit(T[~data.white & ~data.black], C[~data.white & ~data.black], label='other')\n",
      "kmf.plot(ax=ax)\n",
      "plt.title('p-value %f' % p)\n",
      "\n",
      "# continuous tests\n",
      "for s in ['age', 'year', 'education']:\n",
      "    ix = data[s] < data[s].median()\n",
      "    p = logrank_test(T[ix], T[~ix], C[ix], C[~ix])[1]\n",
      "    kmf.fit(T[ix], C[ix], label='lesser %s' % s)\n",
      "    ax = kmf.plot()\n",
      "    kmf.fit(T[~ix], C[~ix], label='greater %s' % s)\n",
      "    kmf.plot(ax=ax)\n",
      "    plt.title('p-value %f' % p)"
     ],
     "language": "python",
     "metadata": {},
     "outputs": []
    }
   ],
   "metadata": {}
  }
 ]
}