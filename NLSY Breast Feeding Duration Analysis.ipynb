{
 "metadata": {
  "name": "",
  "signature": "sha256:00ac492f86173f83b5afdb185fc87d8377b1247a4cf5450f3ac17c740ac410f5"
 },
 "nbformat": 3,
 "nbformat_minor": 0,
 "worksheets": [
  {
   "cells": [
    {
     "cell_type": "code",
     "collapsed": false,
     "input": [
      "from matplotlib import pyplot as plt\n",
      "import numpy as np\n",
      "import pandas as pd\n",
      "import patsy\n",
      "import statsmodels as sm\n",
      "from statsmodels.distributions.empirical_distribution import ECDF\n",
      "from scipy.stats import ks_2samp\n",
      "import lifelines as ll\n",
      "from lifelines.statistics import logrank_test, multivariate_logrank_test\n",
      "%matplotlib inline  "
     ],
     "language": "python",
     "metadata": {},
     "outputs": []
    },
    {
     "cell_type": "heading",
     "level": 2,
     "metadata": {},
     "source": [
      "Load the data and split into train/test sets"
     ]
    },
    {
     "cell_type": "code",
     "collapsed": false,
     "input": [
      "# load in the raw data\n",
      "data = pd.read_csv('data/raw.csv', sep=' ', \n",
      "                   names=[\n",
      "                       'duration', \n",
      "                       'done_feeding', \n",
      "                       'race', \n",
      "                       'poverty', \n",
      "                       'smoking', \n",
      "                       'alcohol', \n",
      "                       'age', \n",
      "                       'year', \n",
      "                       'education', \n",
      "                       'prenatal_care'], \n",
      "                   skipinitialspace=True)\n",
      "\n",
      "# cast boolean fields to bools\n",
      "for col in ['done_feeding', 'poverty', 'smoking', 'alcohol', 'prenatal_care']:\n",
      "    data[col] = data[col].astype(bool)\n",
      "    \n",
      "for col in ['age', 'year', 'education']:\n",
      "    data[col] -= data[col].min()\n",
      "    \n",
      "# convert categorical data into appropriate data for regression\n",
      "data['white'] = data['race'] == 1\n",
      "data['black'] = data['race'] == 2\n",
      "\n",
      "# reorder columns (to put race back to front) and clean up no longer need variables\n",
      "del data['race']\n",
      "cols = data.columns.tolist()\n",
      "cols = cols[:2] + cols[-2:] + cols[2:-2]\n",
      "data = data[cols]\n",
      "del cols"
     ],
     "language": "python",
     "metadata": {},
     "outputs": []
    },
    {
     "cell_type": "code",
     "collapsed": false,
     "input": [
      "data"
     ],
     "language": "python",
     "metadata": {},
     "outputs": []
    },
    {
     "cell_type": "code",
     "collapsed": false,
     "input": [
      "data.describe()"
     ],
     "language": "python",
     "metadata": {},
     "outputs": []
    },
    {
     "cell_type": "code",
     "collapsed": false,
     "input": [
      "ll.plotting.plot_lifetimes(data['duration'], event_observed=data['done_feeding'])"
     ],
     "language": "python",
     "metadata": {},
     "outputs": []
    },
    {
     "cell_type": "code",
     "collapsed": false,
     "input": [
      "# save a copy of this data\n",
      "data.to_csv('data/processed.csv')"
     ],
     "language": "python",
     "metadata": {},
     "outputs": []
    },
    {
     "cell_type": "code",
     "collapsed": false,
     "input": [
      "# first independence check\n",
      "\n",
      "censored = data[~data['done_feeding']]\n",
      "uncensored = data[data['done_feeding']]\n",
      "ks_2samp(censored['duration'], uncensored['duration'])"
     ],
     "language": "python",
     "metadata": {},
     "outputs": []
    },
    {
     "cell_type": "code",
     "collapsed": false,
     "input": [
      "# compare the CDFs\n",
      "\n",
      "un_ecdf = ECDF(uncensored['duration'])\n",
      "censored_ecdf = ECDF(censored['duration'])\n",
      "plt.plot(un_ecdf.x, un_ecdf.y, censored_ecdf.x, censored_ecdf.y)"
     ],
     "language": "python",
     "metadata": {},
     "outputs": []
    },
    {
     "cell_type": "code",
     "collapsed": false,
     "input": [
      "# build a train and test set\n",
      "\n",
      "# set the seed so code can be repeated\n",
      "np.random.seed(2014)\n",
      "\n",
      "# create a test set of 100 mothers (all of which are uncensored)\n",
      "test_idxs = np.sort(np.random.choice(data['done_feeding'].nonzero()[0], size=100, replace=False))\n",
      "\n",
      "# partition data into test and train\n",
      "test_set = data.iloc[test_idxs]\n",
      "train_set = data.iloc[~data.index.isin(test_idxs)]\n",
      "\n",
      "# save to file\n",
      "test_set.to_csv('data/test.csv')\n",
      "train_set.to_csv('data/train.csv')"
     ],
     "language": "python",
     "metadata": {},
     "outputs": []
    },
    {
     "cell_type": "heading",
     "level": 1,
     "metadata": {},
     "source": [
      "Actual statistical analysis now"
     ]
    },
    {
     "cell_type": "code",
     "collapsed": false,
     "input": [
      "kmf = ll.KaplanMeierFitter()\n",
      "kmf.fit(train_set.duration, event_observed=train_set.done_feeding)\n",
      "kmf.plot()"
     ],
     "language": "python",
     "metadata": {},
     "outputs": []
    },
    {
     "cell_type": "code",
     "collapsed": false,
     "input": [
      "# work around for lifelines bug\n",
      "train_set = pd.read_csv('data/train.csv')\n",
      "del train_set[train_set.columns[0]]\n",
      "\n",
      "aaf = ll.AalenAdditiveFitter(penalizer=10)\n",
      "aaf.fit(train_set, duration_col='duration', event_col='done_feeding')"
     ],
     "language": "python",
     "metadata": {},
     "outputs": []
    },
    {
     "cell_type": "heading",
     "level": 1,
     "metadata": {},
     "source": [
      "Testing Points"
     ]
    },
    {
     "cell_type": "code",
     "collapsed": false,
     "input": [
      "# read in the test data with appropriate index\n",
      "test_set = pd.read_csv('data/test.csv', index_col=0)"
     ],
     "language": "python",
     "metadata": {},
     "outputs": []
    },
    {
     "cell_type": "code",
     "collapsed": false,
     "input": [
      "# predict for the first point\n",
      "\n",
      "tst = test_set[test_set.columns[2:]].irow(1).astype(int).values[None, :]\n",
      "aaf.predict_survival_function(tst).plot()\n",
      "\n",
      "del tst"
     ],
     "language": "python",
     "metadata": {},
     "outputs": []
    },
    {
     "cell_type": "code",
     "collapsed": false,
     "input": [
      "# predict cumulative hazard functions for all points in test set\n",
      "test_factors = test_set[test_set.columns[2:]].astype(int).as_matrix();\n",
      "guesses = pd.DataFrame({'prediction': aaf.predict_median(test_factors), 'actual': test_set.duration}, index=test_set.index);\n",
      "\n",
      "guesses\n",
      "\n",
      "errors = guesses['actual'] - guesses['prediction'];\n",
      "\n",
      "((errors * errors).sum() / len(errors)) ** .5\n"
     ],
     "language": "python",
     "metadata": {},
     "outputs": []
    },
    {
     "cell_type": "code",
     "collapsed": false,
     "input": [
      "aaf.cumulative_hazards_.plot()"
     ],
     "language": "python",
     "metadata": {},
     "outputs": []
    },
    {
     "cell_type": "code",
     "collapsed": false,
     "input": [
      "aaf.predict_survival_function(test_factors).plot(legend=False)"
     ],
     "language": "python",
     "metadata": {},
     "outputs": []
    },
    {
     "cell_type": "heading",
     "level": 2,
     "metadata": {},
     "source": [
      "Eric's factor analysis"
     ]
    },
    {
     "cell_type": "code",
     "collapsed": false,
     "input": [
      "# binary variables\n",
      "T = data.duration\n",
      "C = data.done_feeding\n",
      "for s in ['poverty', 'smoking', 'alcohol', 'prenatal_care']:\n",
      "    ix = data[s]\n",
      "    p = logrank_test(data.duration[ix], data.duration[~ix], data.done_feeding[ix], data.done_feeding[~ix])[1]\n",
      "    kmf.fit(T[ix], C[ix], label=s)\n",
      "    ax = kmf.plot()\n",
      "    kmf.fit(T[~ix], C[~ix], label='not %s' % s)\n",
      "    kmf.plot(ax=ax)\n",
      "    plt.title('p-value %f' % p)\n",
      "\n",
      "# categorical test\n",
      "race = 2 * data.white.values + data.black.values\n",
      "p = multivariate_logrank_test(data.duration.values, race, data.done_feeding.values)[1]\n",
      "kmf.fit(T[data.white], C[data.white], label='white')\n",
      "ax = kmf.plot()\n",
      "kmf.fit(T[data.black], C[data.black], label='black')\n",
      "ax = kmf.plot(ax=ax)\n",
      "kmf.fit(T[~data.white & ~data.black], C[~data.white & ~data.black], label='other')\n",
      "kmf.plot(ax=ax)\n",
      "plt.title('p-value %f' % p)\n",
      "\n",
      "# continuous tests\n",
      "for s in ['age', 'year', 'education']:\n",
      "    ix = data[s] < data[s].median()\n",
      "    p = logrank_test(data.duration[ix], data.duration[~ix], data.done_feeding[ix], data.done_feeding[~ix])[1]\n",
      "    kmf.fit(T[ix], C[ix], label='lesser %s' % s)\n",
      "    ax = kmf.plot()\n",
      "    kmf.fit(T[~ix], C[~ix], label='greater %s' % s)\n",
      "    kmf.plot(ax=ax)\n",
      "    plt.title('p-value %f' % p)    "
     ],
     "language": "python",
     "metadata": {},
     "outputs": []
    },
    {
     "cell_type": "markdown",
     "metadata": {},
     "source": [
      "So smoking is the greatest factor... Let's adjust for that now."
     ]
    },
    {
     "cell_type": "code",
     "collapsed": false,
     "input": [
      "aaf.fit(data[['duration', 'done_feeding', 'smoking']], duration_col='duration', event_col='smoking')"
     ],
     "language": "python",
     "metadata": {},
     "outputs": []
    },
    {
     "cell_type": "code",
     "collapsed": false,
     "input": [
      "aaf.predict_survival_function(np.array([[0],[1]])).plot()"
     ],
     "language": "python",
     "metadata": {},
     "outputs": []
    },
    {
     "cell_type": "code",
     "collapsed": false,
     "input": [
      "covariates = data['smoking'].values\n",
      "smoking_factor = aaf.predict_expectation(np.array([[0], [1]]))\n",
      "# advantage of not smoking over smoking\n",
      "smoking_factor = smoking_factor[0] - smoking_factor[1]\n",
      "\n",
      "# binary variables\n",
      "T = data.duration + smoking_factor * data.smoking\n",
      "C = data.done_feeding\n",
      "for s in ['poverty', 'alcohol', 'prenatal_care']:\n",
      "    ix = data[s]\n",
      "    p = logrank_test(T[ix], T[~ix], C[ix], C[~ix])[1]\n",
      "    kmf.fit(T[ix], C[ix], label=s)\n",
      "    ax = kmf.plot()\n",
      "    kmf.fit(T[~ix], C[~ix], label='not %s' % s)\n",
      "    kmf.plot(ax=ax)\n",
      "    plt.title('p-value %f' % p)\n",
      "\n",
      "# categorical test\n",
      "race = 2 * data.white.values + data.black.values\n",
      "p = multivariate_logrank_test(T.values, race, C.values)[1]\n",
      "kmf.fit(T[data.white], C[data.white], label='white')\n",
      "ax = kmf.plot()\n",
      "kmf.fit(T[data.black], C[data.black], label='black')\n",
      "ax = kmf.plot(ax=ax)\n",
      "kmf.fit(T[~data.white & ~data.black], C[~data.white & ~data.black], label='other')\n",
      "kmf.plot(ax=ax)\n",
      "plt.title('p-value %f' % p)\n",
      "\n",
      "# continuous tests\n",
      "for s in ['age', 'year', 'education']:\n",
      "    ix = data[s] < data[s].median()\n",
      "    p = logrank_test(T[ix], T[~ix], C[ix], C[~ix])[1]\n",
      "    kmf.fit(T[ix], C[ix], label='lesser %s' % s)\n",
      "    ax = kmf.plot()\n",
      "    kmf.fit(T[~ix], C[~ix], label='greater %s' % s)\n",
      "    kmf.plot(ax=ax)\n",
      "    plt.title('p-value %f' % p)"
     ],
     "language": "python",
     "metadata": {},
     "outputs": []
    },
    {
     "cell_type": "code",
     "collapsed": false,
     "input": [
      "outlier = max(train_set['duration'])\n",
      "stripped_set = train_set[train_set.duration != outlier];"
     ],
     "language": "python",
     "metadata": {},
     "outputs": []
    },
    {
     "cell_type": "code",
     "collapsed": false,
     "input": [
      "aaf = ll.AalenAdditiveFitter(penalizer=1000)\n",
      "aaf.fit(stripped_set, duration_col='duration', event_col='done_feeding')\n",
      "aaf.predict_survival_function(test_factors).plot(legend=False)"
     ],
     "language": "python",
     "metadata": {},
     "outputs": []
    },
    {
     "cell_type": "code",
     "collapsed": false,
     "input": [
      "reordered_test_set = test_set.reset_index()\n",
      "test_factors = test_set[test_set.columns[2:]].astype(int)\n",
      "ev_errors = aaf.predict_expectation(test_factors) - reordered_test_set.duration\n",
      "median_errors = aaf.predict_median(test_factors) - reordered_test_set.duration\n",
      "\n",
      "print sum(ev_errors) / len(ev_errors)\n",
      "print sum(median_errors) / len(median_errors)"
     ],
     "language": "python",
     "metadata": {},
     "outputs": []
    },
    {
     "cell_type": "code",
     "collapsed": false,
     "input": [
      "fig = plt.figure()\n",
      "ax = fig.add_subplot(211)\n",
      "\n",
      "# the histogram of the data\n",
      "n, bins, patches = ax.hist(ev_errors, 50, normed=1, facecolor='green', alpha=0.75)\n",
      "\n",
      "# hist uses np.histogram under the hood to create 'n' and 'bins'.\n",
      "# np.histogram returns the bin edges, so there will be 50 probability\n",
      "# density values in n, 51 bin edges in bins and 50 patches.  To get\n",
      "# everything lined up, we'll compute the bin centers\n",
      "bincenters = 0.5*(bins[1:]+bins[:-1])\n",
      "# add a 'best fit' line for the normal PDF\n",
      "\n",
      "bx = fig.add_subplot(212)\n",
      "\n",
      "# the histogram of the data\n",
      "n, bins, patches = bx.hist(median_errors, 50, normed=1, facecolor='green', alpha=0.75)\n",
      "\n",
      "# hist uses np.histogram under the hood to create 'n' and 'bins'.\n",
      "# np.histogram returns the bin edges, so there will be 50 probability\n",
      "# density values in n, 51 bin edges in bins and 50 patches.  To get\n",
      "# everything lined up, we'll compute the bin centers\n",
      "bincenters = 0.5*(bins[1:]+bins[:-1])\n",
      "# add a 'best fit' line for the normal PDF\n",
      "\n",
      "plt.show()"
     ],
     "language": "python",
     "metadata": {},
     "outputs": []
    },
    {
     "cell_type": "code",
     "collapsed": false,
     "input": [],
     "language": "python",
     "metadata": {},
     "outputs": []
    }
   ],
   "metadata": {}
  }
 ]
}
