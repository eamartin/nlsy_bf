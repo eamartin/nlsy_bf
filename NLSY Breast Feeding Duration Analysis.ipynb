{
 "metadata": {
  "name": "",
  "signature": "sha256:f8457ab10dd3271aa3e9d4c91608a967ad18fa600a0dfc8601ddf28f71979715"
 },
 "nbformat": 3,
 "nbformat_minor": 0,
 "worksheets": [
  {
   "cells": [
    {
     "cell_type": "code",
     "collapsed": false,
     "input": [
      "from matplotlib import pyplot as plt\n",
      "from mpltools import style\n",
      "style.use('ggplot')\n",
      "\n",
      "import numpy as np\n",
      "import pandas as pd\n",
      "from scipy.integrate import simps\n",
      "import lifelines as ll\n",
      "from lifelines.statistics import logrank_test, multivariate_logrank_test\n",
      "from scipy.integrate import simps\n",
      "\n",
      "%matplotlib inline  "
     ],
     "language": "python",
     "metadata": {},
     "outputs": []
    },
    {
     "cell_type": "heading",
     "level": 2,
     "metadata": {},
     "source": [
      "Load the data and split into train/test sets"
     ]
    },
    {
     "cell_type": "code",
     "collapsed": false,
     "input": [
      "# load in the raw data\n",
      "data = pd.read_csv('data/raw.csv', sep=' ', \n",
      "                   names=[\n",
      "                       'duration', \n",
      "                       'done_feeding', \n",
      "                       'race', \n",
      "                       'poverty', \n",
      "                       'smoking', \n",
      "                       'alcohol', \n",
      "                       'age', \n",
      "                       'year', \n",
      "                       'education', \n",
      "                       'prenatal_care'], \n",
      "                   skipinitialspace=True)\n",
      "\n",
      "# cast boolean fields to bools\n",
      "for col in ['done_feeding', 'poverty', 'smoking', 'alcohol', 'prenatal_care']:\n",
      "    data[col] = data[col].astype(bool)\n",
      "    \n",
      "for col in ['age', 'year', 'education']:\n",
      "    data[col] -= data[col].min()\n",
      "    \n",
      "# convert categorical data into appropriate data for regression\n",
      "data['white'] = data['race'] == 1\n",
      "data['black'] = data['race'] == 2\n",
      "\n",
      "# reorder columns (to put race back to front) and clean up no longer need variables\n",
      "del data['race']\n",
      "cols = data.columns.tolist()\n",
      "cols = cols[:2] + cols[-2:] + cols[2:-2]\n",
      "data = data[cols]\n",
      "del cols\n",
      "\n",
      "# save a copy of this data\n",
      "data.to_csv('data/processed.csv')"
     ],
     "language": "python",
     "metadata": {},
     "outputs": []
    },
    {
     "cell_type": "code",
     "collapsed": false,
     "input": [
      "# build a train and test set\n",
      "\n",
      "# set the seed so code can be repeated\n",
      "np.random.seed(2014)\n",
      "\n",
      "# create a test set of 100 mothers (all of which are uncensored)\n",
      "test_idxs = np.sort(np.random.choice(data['done_feeding'].nonzero()[0], size=100, replace=False))\n",
      "\n",
      "# partition data into test and train\n",
      "test_set = data.iloc[test_idxs]\n",
      "train_set = data.iloc[~data.index.isin(test_idxs)]\n",
      "\n",
      "del test_idxs\n",
      "\n",
      "# save to file\n",
      "test_set.to_csv('data/test.csv')\n",
      "train_set.to_csv('data/train.csv')"
     ],
     "language": "python",
     "metadata": {},
     "outputs": []
    },
    {
     "cell_type": "heading",
     "level": 2,
     "metadata": {},
     "source": [
      "Basic exploratory analysis of dataset"
     ]
    },
    {
     "cell_type": "code",
     "collapsed": false,
     "input": [
      "data"
     ],
     "language": "python",
     "metadata": {},
     "outputs": []
    },
    {
     "cell_type": "code",
     "collapsed": false,
     "input": [
      "data.describe()"
     ],
     "language": "python",
     "metadata": {},
     "outputs": []
    },
    {
     "cell_type": "code",
     "collapsed": false,
     "input": [
      "# compare the CDFs\n",
      "\n",
      "ix = data.done_feeding\n",
      "censored = data[~ix]\n",
      "uncensored = data[ix]\n",
      "\n",
      "uncensored.duration.hist(bins=30, normed=1)\n",
      "plt.title(\"Normalized Histogram of Nursing Durations\")\n",
      "plt.xlabel(\"Weeks\")\n",
      "plt.ylabel(\"Probability\")\n",
      "plt.savefig(\"duration_pdf.pdf\")\n",
      "\n",
      "print uncensored.duration.median(), uncensored.duration.mean(), uncensored.duration.std()\n",
      "\n",
      "plt.figure()\n",
      "frame = uncensored.groupby('year').duration.mean()\n",
      "frame.index = pd.Index(frame.index.values + 78)\n",
      "frame.plot()\n",
      "plt.xlabel(\"Year\")\n",
      "plt.ylabel(\"Average nursing duration (weeks)\")\n",
      "plt.title(\"Decreasing trend of nursing\")\n",
      "plt.savefig(\"time_trend.pdf\")\n",
      "\n",
      "del censored, uncensored, ix, frame"
     ],
     "language": "python",
     "metadata": {},
     "outputs": []
    },
    {
     "cell_type": "code",
     "collapsed": false,
     "input": [
      "kmf = ll.KaplanMeierFitter()\n",
      "kmf.fit(train_set.duration, event_observed=train_set.done_feeding)\n",
      "kmf.plot(legend=False)\n",
      "plt.title(\"Kaplan-Meier estimator of survival function\")\n",
      "plt.xlabel(\"Weeks\")\n",
      "plt.ylabel(\"Probability of still nursing at week\")\n",
      "plt.savefig(\"km.pdf\")\n",
      "\n",
      "print simps(kmf.survival_function_.values, kmf.survival_function_.index.values, axis=0)\n",
      "\n",
      "del kmf"
     ],
     "language": "python",
     "metadata": {},
     "outputs": []
    },
    {
     "cell_type": "heading",
     "level": 2,
     "metadata": {},
     "source": [
      "Train Aalen additive model on train and evaluate it on test"
     ]
    },
    {
     "cell_type": "code",
     "collapsed": false,
     "input": [
      "aaf = ll.AalenAdditiveFitter(penalizer=10)\n",
      "aaf.fit(train_set, duration_col='duration', event_col='done_feeding')"
     ],
     "language": "python",
     "metadata": {},
     "outputs": []
    },
    {
     "cell_type": "code",
     "collapsed": false,
     "input": [
      "def RMSE(errors):\n",
      "    return np.sqrt((errors ** 2).sum() / errors.size)\n",
      "\n",
      "def bias(errors):\n",
      "    return errors.sum() / errors.size\n",
      "\n",
      "# predict cumulative hazard functions for all points in test set\n",
      "def predict_expectation(aaf, covariates):\n",
      "    sfs = aaf.predict_survival_function(covariates)\n",
      "    xvals = sfs.index.values\n",
      "    return simps(sfs.values, xvals, axis=0)"
     ],
     "language": "python",
     "metadata": {},
     "outputs": []
    },
    {
     "cell_type": "code",
     "collapsed": false,
     "input": [
      "aaf.cumulative_hazards_.plot()\n",
      "plt.title(\"Cumulative Hazard Components\")\n",
      "plt.xlabel(\"Time(days)\")\n",
      "\n"
     ],
     "language": "python",
     "metadata": {},
     "outputs": []
    },
    {
     "cell_type": "code",
     "collapsed": false,
     "input": [
      "test_factors = test_set[test_set.columns[2:]].astype(int).as_matrix();\n",
      "aaf.predict_survival_function(test_factors).plot(legend=False)\n",
      "plt.xlabel(\"Time (days)\")\n",
      "plt.title(\"Predicted Survival Functions\")"
     ],
     "language": "python",
     "metadata": {},
     "outputs": []
    },
    {
     "cell_type": "markdown",
     "metadata": {},
     "source": [
      "Repeat the above evaluation to increase confidence in claims"
     ]
    },
    {
     "cell_type": "code",
     "collapsed": false,
     "input": [
      "num_iters = 1\n",
      "E_median_RMSE_in = 0\n",
      "E_mean_RMSE_in = 0\n",
      "E_median_RMSE_out = 0\n",
      "E_mean_RMSE_out = 0\n",
      "E_median_bias = 0\n",
      "E_mean_bias = 0\n",
      "\n",
      "for i in range(num_iters):\n",
      "    test_idxs = np.sort(np.random.choice(data['done_feeding'].nonzero()[0], size=100, replace=False))\n",
      "    # partition data into test and train\n",
      "    test_set_eval = data.iloc[test_idxs]\n",
      "    train_set_eval = data.iloc[~data.index.isin(test_idxs)]\n",
      "    aaf.fit(train_set_eval, duration_col='duration', event_col='done_feeding', show_progress=False)\n",
      "    actual_out = test_set.duration.values\n",
      "    actual_in = train_set.duration.values\n",
      "    \n",
      "    train_factors = train_set[train_set.columns[2:]].astype(int).as_matrix();\n",
      "    median_guesses_in = aaf.predict_median(train_factors).values\n",
      "    mean_guesses_in = predict_expectation(aaf, train_factors)\n",
      "    median_errors_in = actual_in - median_guesses_in\n",
      "    mean_errors_in = actual_in - mean_guesses_in\n",
      "    \n",
      "    test_factors = test_set[test_set.columns[2:]].astype(int).as_matrix();\n",
      "    median_guesses_out = aaf.predict_median(test_factors).values\n",
      "    mean_guesses_out = predict_expectation(aaf, test_factors)\n",
      "    median_errors_out = actual_out - median_guesses_out\n",
      "    mean_errors_out = actual_out - mean_guesses_out\n",
      "    \n",
      "    E_median_RMSE_in += RMSE(median_errors_in)\n",
      "    E_mean_RMSE_in += RMSE(mean_errors_in)\n",
      "    E_median_RMSE_out += RMSE(median_errors_out)\n",
      "    E_mean_RMSE_out += RMSE(mean_errors_out)\n",
      "    E_median_bias += bias(median_errors_out)\n",
      "    E_mean_bias += bias(mean_errors_out)\n",
      "    \n",
      "E_median_RMSE_in /= num_iters\n",
      "E_mean_RMSE_in /= num_iters\n",
      "E_median_RMSE_out /= num_iters\n",
      "E_mean_RMSE_out /= num_iters\n",
      "E_median_bias /= num_iters\n",
      "E_mean_bias /= num_iters\n",
      "\n",
      "print 'Median RMSE_in: %f' % E_median_RMSE_in\n",
      "print 'Mean RMSE_in: %f' % E_mean_RMSE_in\n",
      "print 'Median RMSE_out: %f' % E_median_RMSE_out\n",
      "print 'Mean RMSE_out: %f' % E_mean_RMSE_out\n",
      "print 'Median bias: %f' % E_median_bias\n",
      "print 'Mean bias: %f' % E_mean_bias"
     ],
     "language": "python",
     "metadata": {},
     "outputs": []
    },
    {
     "cell_type": "code",
     "collapsed": false,
     "input": [
      "test_idxs = np.sort(np.random.choice(data['done_feeding'].nonzero()[0], size=100, replace=False))\n",
      "# partition data into test and train\n",
      "test_set_eval = data.iloc[test_idxs]\n",
      "train_set_eval = data.iloc[~data.index.isin(test_idxs)]\n",
      "del train_set_eval['smoking']\n",
      "aaf.fit(train_set_eval, duration_col='duration', event_col='done_feeding', show_progress=False)\n",
      "actual_out = test_set.duration.values\n",
      "   \n",
      "test_factors = test_set[test_set.columns[2:]].astype(int)\n",
      "del test_factors['smoking']\n",
      "test_factors = test_factors.as_matrix()\n",
      "median_guesses_out = aaf.predict_median(test_factors).values\n",
      "mean_guesses_out = predict_expectation(aaf, test_factors)\n",
      "median_errors_out = actual_out - median_guesses_out\n",
      "mean_errors_out = actual_out - mean_guesses_out\n",
      "\n",
      "print \"median in-sample RMSE: %f\" % RMSE(median_errors_out)\n",
      "print \"mean in-sample RMSE: %f\" % RMSE(mean_errors_out)"
     ],
     "language": "python",
     "metadata": {},
     "outputs": []
    },
    {
     "cell_type": "code",
     "collapsed": false,
     "input": [
      "avg_RMSE = 0\n",
      "avg_bias = 0\n",
      "\n",
      "for i in range(num_iters):\n",
      "    test_idxs = np.sort(np.random.choice(data['done_feeding'].nonzero()[0], size=100, replace=False))\n",
      "    # partition data into test and train\n",
      "    test_set_eval = data.iloc[test_idxs]\n",
      "    train_set_eval = data.iloc[~data.index.isin(test_idxs)]\n",
      "    actual_in = train_set.duration.values\n",
      "    actual_out = test_set.duration.values\n",
      "\n",
      "    mean = actual_in.mean()\n",
      "\n",
      "    errors = actual_out - mean\n",
      "    avg_RMSE += RMSE(errors)\n",
      "    avg_bias += bias(errors)\n",
      "\n",
      "print \"median in-sample RMSE: %f\" % (avg_RMSE / 100.)\n",
      "print \"mean in-sample RMSE: %f\" % (avg_bias / 100.)"
     ],
     "language": "python",
     "metadata": {},
     "outputs": []
    },
    {
     "cell_type": "code",
     "collapsed": false,
     "input": [
      "# cleanup\n",
      "del num_iters, E_median_RMSE_in, E_mean_RMSE_in, E_median_RMSE_out, E_mean_RMSE_out\n",
      "del median_errors_in, mean_errors_in, median_errors_out, mean_errors_out\n",
      "del train_factors, test_factors\n",
      "del test_idxs"
     ],
     "language": "python",
     "metadata": {},
     "outputs": []
    },
    {
     "cell_type": "heading",
     "level": 2,
     "metadata": {},
     "source": [
      "Eric's factor analysis"
     ]
    },
    {
     "cell_type": "code",
     "collapsed": false,
     "input": [
      "kmf = ll.KaplanMeierFitter()\n",
      "\n",
      "results = {}\n",
      "\n",
      "# binary variables\n",
      "T = data.duration\n",
      "C = data.done_feeding\n",
      "for s in ['poverty', 'smoking', 'alcohol', 'prenatal_care']:\n",
      "    ix = data[s]\n",
      "    p = logrank_test(data.duration[ix], data.duration[~ix], data.done_feeding[ix], data.done_feeding[~ix])[1]\n",
      "    kmf.fit(T[ix], C[ix], label=s)\n",
      "    ax = kmf.plot()\n",
      "    kmf.fit(T[~ix], C[~ix], label='not %s' % s)\n",
      "    kmf.plot(ax=ax)\n",
      "    plt.title('p-value %f' % p)\n",
      "    results[s] = p\n",
      "\n",
      "# categorical test\n",
      "race = 2 * data.white.values + data.black.values\n",
      "p = multivariate_logrank_test(data.duration.values, race, data.done_feeding.values)[1]\n",
      "kmf.fit(T[data.white], C[data.white], label='white')\n",
      "ax = kmf.plot()\n",
      "kmf.fit(T[data.black], C[data.black], label='black')\n",
      "ax = kmf.plot(ax=ax)\n",
      "kmf.fit(T[~data.white & ~data.black], C[~data.white & ~data.black], label='other')\n",
      "kmf.plot(ax=ax)\n",
      "plt.title('p-value %f' % p)\n",
      "results['race'] = p\n",
      "\n",
      "# continuous tests\n",
      "for s in ['age', 'year', 'education']:\n",
      "    ix = data[s] < data[s].median()\n",
      "    p = logrank_test(data.duration[ix], data.duration[~ix], data.done_feeding[ix], data.done_feeding[~ix])[1]\n",
      "    kmf.fit(T[ix], C[ix], label='lesser %s' % s)\n",
      "    ax = kmf.plot()\n",
      "    kmf.fit(T[~ix], C[~ix], label='greater %s' % s)\n",
      "    kmf.plot(ax=ax)\n",
      "    plt.title('p-value %f' % p)\n",
      "    results[s] = p\n",
      "    \n",
      "print pd.DataFrame(dict((k, [v]) for k, v in results.items())).to_latex(index=False)\n",
      "    \n",
      "del T, C, kmf, p, results"
     ],
     "language": "python",
     "metadata": {},
     "outputs": []
    },
    {
     "cell_type": "markdown",
     "metadata": {},
     "source": [
      "So smoking is the greatest factor... Let's adjust for that now."
     ]
    },
    {
     "cell_type": "code",
     "collapsed": false,
     "input": [
      "aaf = ll.AalenAdditiveFitter(penalizer=10)\n",
      "aaf.fit(data[['duration', 'done_feeding', 'smoking']], duration_col='duration', event_col='done_feeding')"
     ],
     "language": "python",
     "metadata": {},
     "outputs": []
    },
    {
     "cell_type": "code",
     "collapsed": false,
     "input": [
      "kmf = ll.KaplanMeierFitter()\n",
      "\n",
      "covariates = data['smoking'].values\n",
      "smoking_factor = predict_expectation(aaf, np.array([[0], [1]]))\n",
      "# advantage of not smoking over smoking\n",
      "smoking_factor = smoking_factor[0] - smoking_factor[1]\n",
      "print smoking_factor\n",
      "\n",
      "# binary variables\n",
      "T = data.duration + smoking_factor * data.smoking\n",
      "C = data.done_feeding\n",
      "for s in ['poverty', 'alcohol', 'prenatal_care']:\n",
      "    ix = data[s]\n",
      "    p = logrank_test(T[ix], T[~ix], C[ix], C[~ix])[1]\n",
      "    kmf.fit(T[ix], C[ix], label=s)\n",
      "    ax = kmf.plot()\n",
      "    kmf.fit(T[~ix], C[~ix], label='not %s' % s)\n",
      "    kmf.plot(ax=ax)\n",
      "    plt.title('p-value %f' % p)\n",
      "\n",
      "# categorical test\n",
      "race = 2 * data.white.values + data.black.values\n",
      "p = multivariate_logrank_test(T.values, race, C.values)[1]\n",
      "kmf.fit(T[data.white], C[data.white], label='white')\n",
      "ax = kmf.plot()\n",
      "kmf.fit(T[data.black], C[data.black], label='black')\n",
      "ax = kmf.plot(ax=ax)\n",
      "kmf.fit(T[~data.white & ~data.black], C[~data.white & ~data.black], label='other')\n",
      "kmf.plot(ax=ax)\n",
      "#plt.title('p-value %f' % p)\n",
      "\n",
      "plt.title(\"Race survival curves controlled for smoking\")\n",
      "plt.xlabel(\"Weeks\")\n",
      "plt.ylabel(\"Probability of still nursing at week\")\n",
      "plt.savefig(\"race_smoke_control.pdf\")\n",
      "\n",
      "# continuous tests\n",
      "for s in ['age', 'year', 'education']:\n",
      "    ix = data[s] < data[s].median()\n",
      "    print s, data[s].median()\n",
      "    p = logrank_test(T[ix], T[~ix], C[ix], C[~ix])[1]\n",
      "    kmf.fit(T[ix], C[ix], label='lesser %s' % s)\n",
      "    ax = kmf.plot()\n",
      "    kmf.fit(T[~ix], C[~ix], label='greater %s' % s)\n",
      "    kmf.plot(ax=ax)\n",
      "    plt.title('p-value %f' % p)"
     ],
     "language": "python",
     "metadata": {},
     "outputs": []
    },
    {
     "cell_type": "code",
     "collapsed": false,
     "input": [],
     "language": "python",
     "metadata": {},
     "outputs": []
    }
   ],
   "metadata": {}
  }
 ]
}